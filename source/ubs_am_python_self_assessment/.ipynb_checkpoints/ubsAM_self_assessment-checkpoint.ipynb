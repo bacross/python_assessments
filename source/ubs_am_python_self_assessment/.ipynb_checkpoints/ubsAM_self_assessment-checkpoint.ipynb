{
 "cells": [
  {
   "cell_type": "markdown",
   "metadata": {
    "nbgrader": {
     "grade": false,
     "grade_id": "cell-1f3ee30c327b50cc",
     "locked": true,
     "schema_version": 1,
     "solution": false
    }
   },
   "source": [
    "## UBS AM Python Self Assessment\n",
    "### Welcome to the Python Self Assessment designed as a benchmark of skills required as a prerequisite for the UBS/Stevens Foundations in Quant and Data Science Certificate.  Please feel free to take this assessment as many times as you want.  We recommend you first take a Python MOOC to study the requisite skill."
   ]
  },
  {
   "cell_type": "markdown",
   "metadata": {
    "nbgrader": {
     "grade": false,
     "grade_id": "cell-5f1049064ff0fd0e",
     "locked": true,
     "schema_version": 1,
     "solution": false
    }
   },
   "source": [
    "#### Problem 1:  We'll start with the basics, please import the pandas, numpy, and sklearn.  These are pre-installed in the conda environment, so all you have to do is import them to this notebook. (1 pt)"
   ]
  },
  {
   "cell_type": "code",
   "execution_count": 2,
   "metadata": {
    "nbgrader": {
     "grade": false,
     "grade_id": "cell-2da0ecf3f975203b",
     "locked": false,
     "schema_version": 1,
     "solution": true
    }
   },
   "outputs": [],
   "source": [
    "### BEGIN SOLUTION\n",
    "\n",
    "### END SOLUTION"
   ]
  },
  {
   "cell_type": "code",
   "execution_count": 13,
   "metadata": {
    "nbgrader": {
     "grade": true,
     "grade_id": "cell-0b55666ce32d716c",
     "locked": true,
     "points": 1,
     "schema_version": 1,
     "solution": false
    }
   },
   "outputs": [],
   "source": [
    "# Problem 1 Test Cell\n",
    "### BEGIN HIDDEN TESTS\n",
    "assert pandas.__version__.__contains__('0.2')\n",
    "assert numpy.__version__.__contains__('1.1')\n",
    "assert sklearn.__version__.__contains__('0.2')\n",
    "### END HIDDEN TESTS"
   ]
  },
  {
   "cell_type": "markdown",
   "metadata": {
    "nbgrader": {
     "grade": false,
     "grade_id": "cell-f15ddfd78b3a703b",
     "locked": true,
     "schema_version": 1,
     "solution": false
    }
   },
   "source": [
    "#### Problem 2: Create a list called 'foods' that contains the following items: apples, oranges, beer, pasta.  Create a second list called 'prices'.  Apples cost 3, oranges cost 2, beer costs 4.5, and pasta costs 10. Finally, create a list called 'categories' that represent your foods list categories.  Apples and oranges are fruit, beer is alcohol, and pasta is in the grains category. (1 pt)"
   ]
  },
  {
   "cell_type": "code",
   "execution_count": 3,
   "metadata": {
    "nbgrader": {
     "grade": false,
     "grade_id": "cell-9f4d01abd6b13157",
     "locked": false,
     "schema_version": 1,
     "solution": true
    }
   },
   "outputs": [],
   "source": [
    "### BEGIN SOLUTION\n",
    "\n",
    "### END SOLUTION"
   ]
  },
  {
   "cell_type": "code",
   "execution_count": 4,
   "metadata": {
    "nbgrader": {
     "grade": true,
     "grade_id": "cell-9b800b425b93748d",
     "locked": true,
     "points": 1,
     "schema_version": 1,
     "solution": false
    }
   },
   "outputs": [],
   "source": [
    "# Problem 2 Test Cell\n",
    "### BEGIN HIDDEN TESTS\n",
    "assert foods == ['apples','oranges','beer','pasta']\n",
    "assert prices == [3,2,4.5,10]\n",
    "assert categories == ['fruit','fruit','alcohol','grains']\n",
    "### END HIDDEN TESTS"
   ]
  },
  {
   "cell_type": "markdown",
   "metadata": {
    "nbgrader": {
     "grade": false,
     "grade_id": "cell-f85bf75f8a29c32c",
     "locked": true,
     "schema_version": 1,
     "solution": false
    }
   },
   "source": [
    "#### Problem 3: Build a pandas dataframe called 'groceries_df' that contains each of your lists as the columns of the dataframe. Use the list names as the column names.  The expected shape of the dataframe is 4 rows and 3 columns. (2pts)"
   ]
  },
  {
   "cell_type": "code",
   "execution_count": 6,
   "metadata": {
    "nbgrader": {
     "grade": false,
     "grade_id": "cell-72e1f4f594e73ddc",
     "locked": false,
     "schema_version": 1,
     "solution": true
    }
   },
   "outputs": [],
   "source": [
    "### BEGIN SOLUTION\n",
    "\n",
    "### END SOLUTION"
   ]
  },
  {
   "cell_type": "code",
   "execution_count": 7,
   "metadata": {
    "nbgrader": {
     "grade": true,
     "grade_id": "cell-c38250956ce785fa",
     "locked": true,
     "points": 2,
     "schema_version": 1,
     "solution": false
    }
   },
   "outputs": [],
   "source": [
    "# Problem 3 Test Cell\n",
    "### BEGIN HIDDEN TESTS\n",
    "assert type(groceries_df) == pandas.core.frame.DataFrame\n",
    "assert groceries_df.shape == (4,3)\n",
    "assert list(groceries_df.columns) == ['foods','prices','categories']\n",
    "### END HIDDEN TESTS"
   ]
  },
  {
   "cell_type": "markdown",
   "metadata": {
    "nbgrader": {
     "grade": false,
     "grade_id": "cell-03c66333056f724e",
     "locked": true,
     "schema_version": 1,
     "solution": false
    }
   },
   "source": [
    "#### Problem 4: Calculate the average price of the fruits category in your data frame.  First create a groupby object called cat_grouped.  Then use apply, transform, or agg to calculate the average price of fruit and call that fruit_ave_price. (2 pts)"
   ]
  },
  {
   "cell_type": "code",
   "execution_count": 8,
   "metadata": {
    "nbgrader": {
     "grade": false,
     "grade_id": "cell-8c14883c6f89b34c",
     "locked": false,
     "schema_version": 1,
     "solution": true
    }
   },
   "outputs": [],
   "source": [
    "### BEGIN SOLUTION\n",
    "\n",
    "### END SOLUTION"
   ]
  },
  {
   "cell_type": "code",
   "execution_count": 9,
   "metadata": {
    "nbgrader": {
     "grade": true,
     "grade_id": "cell-835866a4d0c0c630",
     "locked": true,
     "points": 2,
     "schema_version": 1,
     "solution": false
    }
   },
   "outputs": [],
   "source": [
    "# Problem 4 Test Cell\n",
    "### BEGIN HIDDEN TESTS\n",
    "assert type(cat_grouped) == pandas.core.groupby.groupby.SeriesGroupBy\n",
    "assert fruit_ave_price == 2.5\n",
    "### END HIDDEN TESTS"
   ]
  },
  {
   "cell_type": "markdown",
   "metadata": {
    "nbgrader": {
     "grade": false,
     "grade_id": "cell-abcda7f9b4a7895e",
     "locked": true,
     "schema_version": 1,
     "solution": false
    }
   },
   "source": [
    "#### Problem 5: add a new column to the groceries_df data frame indicating the aisle in which you can find the food in the store using the list given to you below.  Call the new column 'aisle'. (2 pts)"
   ]
  },
  {
   "cell_type": "code",
   "execution_count": 10,
   "metadata": {
    "nbgrader": {
     "grade": false,
     "grade_id": "cell-c7bf11e2b0e578dd",
     "locked": false,
     "schema_version": 1,
     "solution": true
    }
   },
   "outputs": [],
   "source": [
    "aisle_list = [2,7,numpy.nan,3]\n",
    "\n",
    "### BEGIN SOLUTION\n",
    "\n",
    "### END SOLUTION"
   ]
  },
  {
   "cell_type": "code",
   "execution_count": 11,
   "metadata": {
    "nbgrader": {
     "grade": true,
     "grade_id": "cell-4e3784dc93216da4",
     "locked": true,
     "points": 2,
     "schema_version": 1,
     "solution": false
    }
   },
   "outputs": [],
   "source": [
    "# Problem 5 Test Cell\n",
    "### BEGIN HIDDEN TESTS\n",
    "assert list(groceries_df.columns) == ['foods','prices','categories','aisle']\n",
    "assert groceries_df['aisle'].equals(pandas.Series(aisle_list))\n",
    "### END HIDDEN TESTS"
   ]
  },
  {
   "cell_type": "markdown",
   "metadata": {
    "nbgrader": {
     "grade": false,
     "grade_id": "cell-333c65d2d95080ff",
     "locked": true,
     "schema_version": 1,
     "solution": false
    }
   },
   "source": [
    "#### Problem 6: Create a new dataframe called groc_df_new that filters out any null values from the groceries_df dataframe. (2 pts)"
   ]
  },
  {
   "cell_type": "code",
   "execution_count": 21,
   "metadata": {
    "nbgrader": {
     "grade": false,
     "grade_id": "cell-11c82915c5280fde",
     "locked": false,
     "schema_version": 1,
     "solution": true
    }
   },
   "outputs": [],
   "source": [
    "### BEGIN SOLUTION\n",
    "\n",
    "### END SOLUTION"
   ]
  },
  {
   "cell_type": "code",
   "execution_count": 26,
   "metadata": {
    "nbgrader": {
     "grade": true,
     "grade_id": "cell-1b19d6ca46f62443",
     "locked": true,
     "points": 2,
     "schema_version": 1,
     "solution": false
    }
   },
   "outputs": [],
   "source": [
    "# Problem 6 Test Cell\n",
    "### BEGIN HIDDEN TESTS\n",
    "assert groc_df_new.shape == (3,4)\n",
    "assert groc_df_new['foods'].equals(pandas.Series(['apples','oranges','pasta'],index=[0,1,3]))\n",
    "### END HIDDEN TESTS"
   ]
  },
  {
   "cell_type": "markdown",
   "metadata": {
    "nbgrader": {
     "grade": false,
     "grade_id": "cell-bf0d6202c97317e0",
     "locked": true,
     "schema_version": 1,
     "solution": false
    }
   },
   "source": [
    "#### Problem 7: Write a python function that returns the square of it's input, call this function 'squares.'  Then create a new column by applying it to the 'aisle' column of groc_df_new.  Call the new column 'aisle_squared.' (3 pts)"
   ]
  },
  {
   "cell_type": "code",
   "execution_count": 27,
   "metadata": {
    "nbgrader": {
     "grade": false,
     "grade_id": "cell-19d3892777a9617a",
     "locked": false,
     "schema_version": 1,
     "solution": true
    }
   },
   "outputs": [
    {
     "name": "stderr",
     "output_type": "stream",
     "text": [
      "C:\\Users\\bacro\\Anaconda3\\lib\\site-packages\\ipykernel_launcher.py:2: SettingWithCopyWarning: \n",
      "A value is trying to be set on a copy of a slice from a DataFrame.\n",
      "Try using .loc[row_indexer,col_indexer] = value instead\n",
      "\n",
      "See the caveats in the documentation: http://pandas.pydata.org/pandas-docs/stable/indexing.html#indexing-view-versus-copy\n",
      "  \n"
     ]
    }
   ],
   "source": [
    "### BEGIN SOLUTION\n",
    "\n",
    "### END SOLUTION"
   ]
  },
  {
   "cell_type": "code",
   "execution_count": 36,
   "metadata": {
    "nbgrader": {
     "grade": true,
     "grade_id": "cell-727433c9cd5bf5f7",
     "locked": true,
     "points": 3,
     "schema_version": 1,
     "solution": false
    }
   },
   "outputs": [],
   "source": [
    "# Problem 7 Test Cell\n",
    "### BEGIN HIDDEN TESTS\n",
    "assert squares(3) == 9\n",
    "assert groc_df_new['aisle_squared'].equals(pandas.Series([4.0,49.0,9.0],index=[0,1,3]))\n",
    "### END HIDDEN TESTS"
   ]
  },
  {
   "cell_type": "markdown",
   "metadata": {
    "nbgrader": {
     "grade": false,
     "grade_id": "cell-a4b0d64daa80ca01",
     "locked": true,
     "schema_version": 1,
     "solution": false
    }
   },
   "source": [
    "#### Problem 8: Load two dataframes, called df_A and df_B, from the below paths and label the columns with the lists provided below.  Next merge the two data frames using date and ticker as the common keys, call this df_C.  Lastly, calculate the daily series of net dollar exposures (buy - sell), call this net_dollars. (5 pts)"
   ]
  },
  {
   "cell_type": "code",
   "execution_count": 89,
   "metadata": {
    "nbgrader": {
     "grade": false,
     "grade_id": "cell-ce6ce49d8d59eeca",
     "locked": false,
     "schema_version": 1,
     "solution": true
    }
   },
   "outputs": [
    {
     "data": {
      "text/plain": [
       "-9528.899999999794"
      ]
     },
     "execution_count": 89,
     "metadata": {},
     "output_type": "execute_result"
    }
   ],
   "source": [
    "df_A_path = './data/df_A.csv'\n",
    "df_B_path = './data/df_B.csv'\n",
    "\n",
    "### BEGIN SOLUTION\n",
    "\n",
    "### END SOLUTION"
   ]
  },
  {
   "cell_type": "code",
   "execution_count": 93,
   "metadata": {
    "nbgrader": {
     "grade": true,
     "grade_id": "cell-e30866559291653f",
     "locked": true,
     "points": 5,
     "schema_version": 1,
     "solution": false
    }
   },
   "outputs": [],
   "source": [
    "# Problem 8 Test Cell\n",
    "### BEGIN HIDDEN TESTS\n",
    "from math import isclose\n",
    "assert df_A.shape == (8,3)\n",
    "assert df_B.shape == (8,4)\n",
    "assert df_C.shape == (8,6)\n",
    "assert isclose(net_dollars.dollars.sum(),-9528,abs_tol=1)\n",
    "### END HIDDEN TESTS"
   ]
  },
  {
   "cell_type": "markdown",
   "metadata": {
    "nbgrader": {
     "grade": false,
     "grade_id": "cell-2a6e0f7c3e9fc1a1",
     "locked": true,
     "schema_version": 1,
     "solution": false
    }
   },
   "source": [
    "#### Problem 9: Load the Boston data set from the R MASS package into a pandas dataframe called 'boston'.  Create new columns by transforming the columns 'rm' (rooms) and 'medv' (median values) into z-scores. Call the new columns 'z_rm' and 'z_medv.' (5 pts)"
   ]
  },
  {
   "cell_type": "code",
   "execution_count": 48,
   "metadata": {
    "nbgrader": {
     "grade": false,
     "grade_id": "cell-b52b96fbbcf99df6",
     "locked": false,
     "schema_version": 1,
     "solution": true
    }
   },
   "outputs": [],
   "source": [
    "boston_path = './data/boston.csv'\n",
    "\n",
    "### BEGIN SOLUTION\n",
    "\n",
    "### END SOLUTION"
   ]
  },
  {
   "cell_type": "code",
   "execution_count": 54,
   "metadata": {
    "nbgrader": {
     "grade": true,
     "grade_id": "cell-d1c3f86a8e0de558",
     "locked": true,
     "points": 5,
     "schema_version": 1,
     "solution": false
    }
   },
   "outputs": [],
   "source": [
    "# Problem 9 Test Cell\n",
    "### BEGIN HIDDEN TESTS\n",
    "assert type(boston) == pandas.core.frame.DataFrame\n",
    "assert boston.shape == (506,17)\n",
    "assert list(boston.columns) == ['Unnamed: 0','crim','zn','indus', 'chas', 'nox', 'rm', 'age', 'dis', 'rad', 'tax',\n",
    "                                 'ptratio', 'black', 'lstat', 'medv', 'z_rm', 'z_medv']\n",
    "\n",
    "z_rm_test = (boston['rm'] - boston['rm'].mean())/boston['rm'].std(ddof=0)\n",
    "z_medv_test = (boston['medv'] - boston['medv'].mean())/boston['medv'].std(ddof=0)\n",
    "assert boston.z_rm.equals(z_rm_test)\n",
    "assert boston.z_medv.equals(z_medv_test)\n",
    "### END HIDDEN TESTS"
   ]
  },
  {
   "cell_type": "markdown",
   "metadata": {
    "nbgrader": {
     "grade": false,
     "grade_id": "cell-f28855c408dd2372",
     "locked": true,
     "schema_version": 1,
     "solution": false
    }
   },
   "source": [
    "#### Problem 10: Use sci-kit learn's linear regression model to build a model to predict home values(z_medv) from the number of rooms in the house (z_rm).  Fit the model, then label the coefficient value as 'beta', the intercept value as 'alpha', and the R-squared value as 'rsq'. (7pts)"
   ]
  },
  {
   "cell_type": "code",
   "execution_count": 64,
   "metadata": {
    "nbgrader": {
     "grade": false,
     "grade_id": "cell-9ead323bde633bde",
     "locked": false,
     "schema_version": 1,
     "solution": true
    }
   },
   "outputs": [],
   "source": [
    "from sklearn.linear_model import LinearRegression\n",
    "\n",
    "### BEGIN SOLUTION\n",
    "\n",
    "### END SOLUTION"
   ]
  },
  {
   "cell_type": "code",
   "execution_count": 71,
   "metadata": {
    "nbgrader": {
     "grade": true,
     "grade_id": "cell-ad802e64d32e9a98",
     "locked": true,
     "points": 7,
     "schema_version": 1,
     "solution": false
    }
   },
   "outputs": [],
   "source": [
    "# Problem 10 Test Cell\n",
    "### BEGIN HIDDEN TESTS\n",
    "assert isclose(alpha,0,abs_tol=0.01)\n",
    "assert isclose(beta,0.69,abs_tol=0.01)\n",
    "assert isclose(rsq,0.48,abs_tol=0.01)\n",
    "### END HIDDEN TESTS"
   ]
  }
 ],
 "metadata": {
  "celltoolbar": "Create Assignment",
  "kernelspec": {
   "display_name": "Python 3",
   "language": "python",
   "name": "python3"
  },
  "language_info": {
   "codemirror_mode": {
    "name": "ipython",
    "version": 3
   },
   "file_extension": ".py",
   "mimetype": "text/x-python",
   "name": "python",
   "nbconvert_exporter": "python",
   "pygments_lexer": "ipython3",
   "version": "3.6.8"
  }
 },
 "nbformat": 4,
 "nbformat_minor": 1
}
